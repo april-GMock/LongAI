{
 "cells": [
  {
   "metadata": {},
   "cell_type": "code",
   "outputs": [],
   "execution_count": null,
   "source": "from embedchain import App",
   "id": "19baaf2cdb58cd12"
  },
  {
   "metadata": {},
   "cell_type": "code",
   "outputs": [],
   "execution_count": null,
   "source": [
    "import os\n",
    "\n",
    "os.environ[\"AWS_REGION\"] = \"us-east-1\""
   ],
   "id": "fd7362de7a060ad4"
  },
  {
   "metadata": {},
   "cell_type": "code",
   "outputs": [],
   "execution_count": null,
   "source": [
    "config = {\n",
    "    \"app\": {\n",
    "        \"config\": {\n",
    "            \"id\": \"my-app\",\n",
    "        },\n",
    "    },\n",
    "    \"llm\": {\n",
    "        \"provider\": \"aws_bedrock\",\n",
    "        \"config\": {\n",
    "            \"model\": \"anthropic.claude-v2:1\",\n",
    "            \"stream\": False\n",
    "        },\n",
    "    },\n",
    "    \"embedder\": {\n",
    "        \"provider\": \"aws_bedrock\",\n",
    "        \"config\": {\n",
    "            \"model\": \"amazon.titan-embed-text-v2:0\",\n",
    "            \"vector_dimension\": 1024\n",
    "        },\n",
    "    }\n",
    "}\n",
    "\n",
    "app = App.from_config(config=config)"
   ],
   "id": "f23f80bd62b5aa1a"
  },
  {
   "metadata": {},
   "cell_type": "code",
   "outputs": [],
   "execution_count": null,
   "source": [
    "app.add(\"https://en.wikipedia.org/wiki/Elon_Musk\")\n",
    "app.add(\"https://www.forbes.com/profile/elon-musk\")"
   ],
   "id": "9f65933d79fb2bd8"
  },
  {
   "metadata": {},
   "cell_type": "code",
   "outputs": [],
   "execution_count": null,
   "source": [
    "response = app.query(\"what is the net worth of Elon Musk?\")\n",
    "print(response)\n",
    "# $223.1 billion\n",
    "\n",
    "response = app.chat(\"which companies does Elon Musk own?\")\n",
    "print(response)\n",
    "# Tesla, SpaceX, Boring Company, Twitter, X"
   ],
   "id": "ab0d666638c54c8f"
  }
 ],
 "metadata": {
  "kernelspec": {
   "display_name": "Python 3",
   "language": "python",
   "name": "python3"
  },
  "language_info": {
   "codemirror_mode": {
    "name": "ipython",
    "version": 2
   },
   "file_extension": ".py",
   "mimetype": "text/x-python",
   "name": "python",
   "nbconvert_exporter": "python",
   "pygments_lexer": "ipython2",
   "version": "2.7.6"
  }
 },
 "nbformat": 4,
 "nbformat_minor": 5
}
